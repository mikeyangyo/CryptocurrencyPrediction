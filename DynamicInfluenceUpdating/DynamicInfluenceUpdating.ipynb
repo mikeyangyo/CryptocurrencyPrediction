{
 "cells": [
  {
   "cell_type": "code",
   "execution_count": 3,
   "metadata": {},
   "outputs": [],
   "source": [
    "import numpy as np"
   ]
  },
  {
   "cell_type": "code",
   "execution_count": 2,
   "metadata": {},
   "outputs": [
    {
     "ename": "SyntaxError",
     "evalue": "invalid syntax (<ipython-input-2-e54b1306afd2>, line 17)",
     "output_type": "error",
     "traceback": [
      "\u001b[1;36m  File \u001b[1;32m\"<ipython-input-2-e54b1306afd2>\"\u001b[1;36m, line \u001b[1;32m17\u001b[0m\n\u001b[1;33m    gamma_now = [t_ij]_(n*n)\u001b[0m\n\u001b[1;37m                      ^\u001b[0m\n\u001b[1;31mSyntaxError\u001b[0m\u001b[1;31m:\u001b[0m invalid syntax\n"
     ]
    }
   ],
   "source": [
    "# gamma : n * n matrix, diagonal elements = t_kj, k in N\n",
    "# fi    : n * 1 matrix\n",
    "# vi    : n * 1 matrix\n",
    "def influenceUpdating(discountFector, nowTime):\n",
    "    alpha_i = 1\n",
    "    f_iN_now = 0\n",
    "    fi_now = []\n",
    "    for t in range(nowTime):\n",
    "        if t > 0:\n",
    "            gamma_old = gamma_now\n",
    "            fi_old = fi_now\n",
    "            result = 0\n",
    "            for k in N:\n",
    "                result += t_ki_old * fi_old[k]\n",
    "            alpha_i = 1 / (1 + discountFector) * result\n",
    "        \n",
    "        gamma_now = [t_ij]_(n*n)\n",
    "        \n",
    "        for i in range(n):\n",
    "            for j in range(n):\n",
    "                f_i_j = alpha_i / rho_i_i * rho_i_j\n",
    "                f_i.append(f_i_j)\n",
    "\n",
    "        f_iN_now = sum(fi_now)\n",
    "    return f_iN_now, fi_now"
   ]
  },
  {
   "cell_type": "code",
   "execution_count": 5,
   "metadata": {},
   "outputs": [
    {
     "data": {
      "text/plain": [
       "matrix([[-2.66666667,  2.66666667, -1.        ],\n",
       "        [ 3.33333333, -4.33333333,  2.        ],\n",
       "        [-1.        ,  2.        , -1.        ]])"
      ]
     },
     "execution_count": 5,
     "metadata": {},
     "output_type": "execute_result"
    }
   ],
   "source": [
    "a = np.matrix([[1,2,3],[4,5,6],[7,8,8]])\n",
    "a.getI()"
   ]
  },
  {
   "cell_type": "code",
   "execution_count": null,
   "metadata": {},
   "outputs": [],
   "source": []
  }
 ],
 "metadata": {
  "kernelspec": {
   "display_name": "Python 3",
   "language": "python",
   "name": "python3"
  },
  "language_info": {
   "codemirror_mode": {
    "name": "ipython",
    "version": 3
   },
   "file_extension": ".py",
   "mimetype": "text/x-python",
   "name": "python",
   "nbconvert_exporter": "python",
   "pygments_lexer": "ipython3",
   "version": "3.6.5"
  }
 },
 "nbformat": 4,
 "nbformat_minor": 2
}
