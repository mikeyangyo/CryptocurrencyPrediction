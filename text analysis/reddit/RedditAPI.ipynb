{
 "cells": [
  {
   "cell_type": "code",
   "execution_count": 7,
   "metadata": {},
   "outputs": [],
   "source": [
    "import praw"
   ]
  },
  {
   "cell_type": "code",
   "execution_count": 13,
   "metadata": {},
   "outputs": [],
   "source": [
    "reddit = praw.Reddit(client_id='uq8oeuZz2JktLQ',\n",
    "                     client_secret='pjLQBJj7iOndSrnvWfqRfxpe4hI',\n",
    "                     user_agent='my user agent')"
   ]
  },
  {
   "cell_type": "code",
   "execution_count": 15,
   "metadata": {},
   "outputs": [
    {
     "name": "stdout",
     "output_type": "stream",
     "text": [
      "Ask Anything Monday - Weekly Thread\n",
      "---------------\n",
      "Python Selenium module, getting started w/ selenium\n",
      "---------------\n",
      "Is it a good idea to compile python to exe and then distribute to users?\n",
      "---------------\n",
      "How to export a full project (dependencies included)\n",
      "---------------\n",
      "Open text file from link\n",
      "---------------\n",
      "Log into website using requests\n",
      "---------------\n",
      "Help me read youtube-dl\n",
      "---------------\n",
      "Splitting Two Frames Into One\n",
      "---------------\n",
      "Completely new to Python Anaconda, need to do a regression with messy data\n",
      "---------------\n",
      "Accessing columns in Pandas dataframe with multiple headers\n",
      "---------------\n"
     ]
    }
   ],
   "source": [
    "for submission in reddit.subreddit('learnpython').hot(limit=10):\n",
    "    print(submission.title)\n",
    "    print('---------------')"
   ]
  },
  {
   "cell_type": "code",
   "execution_count": null,
   "metadata": {},
   "outputs": [],
   "source": []
  }
 ],
 "metadata": {
  "kernelspec": {
   "display_name": "Python 3",
   "language": "python",
   "name": "python3"
  },
  "language_info": {
   "codemirror_mode": {
    "name": "ipython",
    "version": 3
   },
   "file_extension": ".py",
   "mimetype": "text/x-python",
   "name": "python",
   "nbconvert_exporter": "python",
   "pygments_lexer": "ipython3",
   "version": "3.6.5"
  }
 },
 "nbformat": 4,
 "nbformat_minor": 2
}
